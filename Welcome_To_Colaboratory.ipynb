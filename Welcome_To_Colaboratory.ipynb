{
  "cells": [
    {
      "cell_type": "markdown",
      "metadata": {
        "id": "view-in-github",
        "colab_type": "text"
      },
      "source": [
        "<a href=\"https://colab.research.google.com/github/Srinivasa01/Minor-Projects/blob/main/Welcome_To_Colaboratory.ipynb\" target=\"_parent\"><img src=\"https://colab.research.google.com/assets/colab-badge.svg\" alt=\"Open In Colab\"/></a>"
      ]
    },
    {
      "cell_type": "code",
      "source": [
        "import pandas as pd"
      ],
      "metadata": {
        "id": "kjBIDfdxA5wI"
      },
      "execution_count": 4,
      "outputs": []
    },
    {
      "cell_type": "code",
      "source": [
        "df=pd.read_csv('AAPL.csv')"
      ],
      "metadata": {
        "id": "NKuJl-_fBKT4"
      },
      "execution_count": 6,
      "outputs": []
    },
    {
      "cell_type": "code",
      "source": [
        "df.head()"
      ],
      "metadata": {
        "colab": {
          "base_uri": "https://localhost:8080/",
          "height": 330
        },
        "id": "1vnOcWj2Bl3A",
        "outputId": "3f47f32b-6fab-4525-fbc5-bec17788af9c"
      },
      "execution_count": 8,
      "outputs": [
        {
          "output_type": "execute_result",
          "data": {
            "text/plain": [
              "   Unnamed: 0 symbol                       date    close     high     low  \\\n",
              "0           0   AAPL  2015-05-27 00:00:00+00:00  132.045  132.260  130.05   \n",
              "1           1   AAPL  2015-05-28 00:00:00+00:00  131.780  131.950  131.10   \n",
              "2           2   AAPL  2015-05-29 00:00:00+00:00  130.280  131.450  129.90   \n",
              "3           3   AAPL  2015-06-01 00:00:00+00:00  130.535  131.390  130.05   \n",
              "4           4   AAPL  2015-06-02 00:00:00+00:00  129.960  130.655  129.32   \n",
              "\n",
              "     open    volume    adjClose     adjHigh      adjLow     adjOpen  \\\n",
              "0  130.34  45833246  121.682558  121.880685  119.844118  120.111360   \n",
              "1  131.86  30733309  121.438354  121.595013  120.811718  121.512076   \n",
              "2  131.23  50884452  120.056069  121.134251  119.705890  120.931516   \n",
              "3  131.20  32112797  120.291057  121.078960  119.844118  120.903870   \n",
              "4  129.86  33667627  119.761181  120.401640  119.171406  119.669029   \n",
              "\n",
              "   adjVolume  divCash  splitFactor  \n",
              "0   45833246      0.0          1.0  \n",
              "1   30733309      0.0          1.0  \n",
              "2   50884452      0.0          1.0  \n",
              "3   32112797      0.0          1.0  \n",
              "4   33667627      0.0          1.0  "
            ],
            "text/html": [
              "\n",
              "  <div id=\"df-83092449-6b21-49fe-9645-bfea59ce3c94\" class=\"colab-df-container\">\n",
              "    <div>\n",
              "<style scoped>\n",
              "    .dataframe tbody tr th:only-of-type {\n",
              "        vertical-align: middle;\n",
              "    }\n",
              "\n",
              "    .dataframe tbody tr th {\n",
              "        vertical-align: top;\n",
              "    }\n",
              "\n",
              "    .dataframe thead th {\n",
              "        text-align: right;\n",
              "    }\n",
              "</style>\n",
              "<table border=\"1\" class=\"dataframe\">\n",
              "  <thead>\n",
              "    <tr style=\"text-align: right;\">\n",
              "      <th></th>\n",
              "      <th>Unnamed: 0</th>\n",
              "      <th>symbol</th>\n",
              "      <th>date</th>\n",
              "      <th>close</th>\n",
              "      <th>high</th>\n",
              "      <th>low</th>\n",
              "      <th>open</th>\n",
              "      <th>volume</th>\n",
              "      <th>adjClose</th>\n",
              "      <th>adjHigh</th>\n",
              "      <th>adjLow</th>\n",
              "      <th>adjOpen</th>\n",
              "      <th>adjVolume</th>\n",
              "      <th>divCash</th>\n",
              "      <th>splitFactor</th>\n",
              "    </tr>\n",
              "  </thead>\n",
              "  <tbody>\n",
              "    <tr>\n",
              "      <th>0</th>\n",
              "      <td>0</td>\n",
              "      <td>AAPL</td>\n",
              "      <td>2015-05-27 00:00:00+00:00</td>\n",
              "      <td>132.045</td>\n",
              "      <td>132.260</td>\n",
              "      <td>130.05</td>\n",
              "      <td>130.34</td>\n",
              "      <td>45833246</td>\n",
              "      <td>121.682558</td>\n",
              "      <td>121.880685</td>\n",
              "      <td>119.844118</td>\n",
              "      <td>120.111360</td>\n",
              "      <td>45833246</td>\n",
              "      <td>0.0</td>\n",
              "      <td>1.0</td>\n",
              "    </tr>\n",
              "    <tr>\n",
              "      <th>1</th>\n",
              "      <td>1</td>\n",
              "      <td>AAPL</td>\n",
              "      <td>2015-05-28 00:00:00+00:00</td>\n",
              "      <td>131.780</td>\n",
              "      <td>131.950</td>\n",
              "      <td>131.10</td>\n",
              "      <td>131.86</td>\n",
              "      <td>30733309</td>\n",
              "      <td>121.438354</td>\n",
              "      <td>121.595013</td>\n",
              "      <td>120.811718</td>\n",
              "      <td>121.512076</td>\n",
              "      <td>30733309</td>\n",
              "      <td>0.0</td>\n",
              "      <td>1.0</td>\n",
              "    </tr>\n",
              "    <tr>\n",
              "      <th>2</th>\n",
              "      <td>2</td>\n",
              "      <td>AAPL</td>\n",
              "      <td>2015-05-29 00:00:00+00:00</td>\n",
              "      <td>130.280</td>\n",
              "      <td>131.450</td>\n",
              "      <td>129.90</td>\n",
              "      <td>131.23</td>\n",
              "      <td>50884452</td>\n",
              "      <td>120.056069</td>\n",
              "      <td>121.134251</td>\n",
              "      <td>119.705890</td>\n",
              "      <td>120.931516</td>\n",
              "      <td>50884452</td>\n",
              "      <td>0.0</td>\n",
              "      <td>1.0</td>\n",
              "    </tr>\n",
              "    <tr>\n",
              "      <th>3</th>\n",
              "      <td>3</td>\n",
              "      <td>AAPL</td>\n",
              "      <td>2015-06-01 00:00:00+00:00</td>\n",
              "      <td>130.535</td>\n",
              "      <td>131.390</td>\n",
              "      <td>130.05</td>\n",
              "      <td>131.20</td>\n",
              "      <td>32112797</td>\n",
              "      <td>120.291057</td>\n",
              "      <td>121.078960</td>\n",
              "      <td>119.844118</td>\n",
              "      <td>120.903870</td>\n",
              "      <td>32112797</td>\n",
              "      <td>0.0</td>\n",
              "      <td>1.0</td>\n",
              "    </tr>\n",
              "    <tr>\n",
              "      <th>4</th>\n",
              "      <td>4</td>\n",
              "      <td>AAPL</td>\n",
              "      <td>2015-06-02 00:00:00+00:00</td>\n",
              "      <td>129.960</td>\n",
              "      <td>130.655</td>\n",
              "      <td>129.32</td>\n",
              "      <td>129.86</td>\n",
              "      <td>33667627</td>\n",
              "      <td>119.761181</td>\n",
              "      <td>120.401640</td>\n",
              "      <td>119.171406</td>\n",
              "      <td>119.669029</td>\n",
              "      <td>33667627</td>\n",
              "      <td>0.0</td>\n",
              "      <td>1.0</td>\n",
              "    </tr>\n",
              "  </tbody>\n",
              "</table>\n",
              "</div>\n",
              "    <div class=\"colab-df-buttons\">\n",
              "\n",
              "  <div class=\"colab-df-container\">\n",
              "    <button class=\"colab-df-convert\" onclick=\"convertToInteractive('df-83092449-6b21-49fe-9645-bfea59ce3c94')\"\n",
              "            title=\"Convert this dataframe to an interactive table.\"\n",
              "            style=\"display:none;\">\n",
              "\n",
              "  <svg xmlns=\"http://www.w3.org/2000/svg\" height=\"24px\" viewBox=\"0 -960 960 960\">\n",
              "    <path d=\"M120-120v-720h720v720H120Zm60-500h600v-160H180v160Zm220 220h160v-160H400v160Zm0 220h160v-160H400v160ZM180-400h160v-160H180v160Zm440 0h160v-160H620v160ZM180-180h160v-160H180v160Zm440 0h160v-160H620v160Z\"/>\n",
              "  </svg>\n",
              "    </button>\n",
              "\n",
              "  <style>\n",
              "    .colab-df-container {\n",
              "      display:flex;\n",
              "      gap: 12px;\n",
              "    }\n",
              "\n",
              "    .colab-df-convert {\n",
              "      background-color: #E8F0FE;\n",
              "      border: none;\n",
              "      border-radius: 50%;\n",
              "      cursor: pointer;\n",
              "      display: none;\n",
              "      fill: #1967D2;\n",
              "      height: 32px;\n",
              "      padding: 0 0 0 0;\n",
              "      width: 32px;\n",
              "    }\n",
              "\n",
              "    .colab-df-convert:hover {\n",
              "      background-color: #E2EBFA;\n",
              "      box-shadow: 0px 1px 2px rgba(60, 64, 67, 0.3), 0px 1px 3px 1px rgba(60, 64, 67, 0.15);\n",
              "      fill: #174EA6;\n",
              "    }\n",
              "\n",
              "    .colab-df-buttons div {\n",
              "      margin-bottom: 4px;\n",
              "    }\n",
              "\n",
              "    [theme=dark] .colab-df-convert {\n",
              "      background-color: #3B4455;\n",
              "      fill: #D2E3FC;\n",
              "    }\n",
              "\n",
              "    [theme=dark] .colab-df-convert:hover {\n",
              "      background-color: #434B5C;\n",
              "      box-shadow: 0px 1px 3px 1px rgba(0, 0, 0, 0.15);\n",
              "      filter: drop-shadow(0px 1px 2px rgba(0, 0, 0, 0.3));\n",
              "      fill: #FFFFFF;\n",
              "    }\n",
              "  </style>\n",
              "\n",
              "    <script>\n",
              "      const buttonEl =\n",
              "        document.querySelector('#df-83092449-6b21-49fe-9645-bfea59ce3c94 button.colab-df-convert');\n",
              "      buttonEl.style.display =\n",
              "        google.colab.kernel.accessAllowed ? 'block' : 'none';\n",
              "\n",
              "      async function convertToInteractive(key) {\n",
              "        const element = document.querySelector('#df-83092449-6b21-49fe-9645-bfea59ce3c94');\n",
              "        const dataTable =\n",
              "          await google.colab.kernel.invokeFunction('convertToInteractive',\n",
              "                                                    [key], {});\n",
              "        if (!dataTable) return;\n",
              "\n",
              "        const docLinkHtml = 'Like what you see? Visit the ' +\n",
              "          '<a target=\"_blank\" href=https://colab.research.google.com/notebooks/data_table.ipynb>data table notebook</a>'\n",
              "          + ' to learn more about interactive tables.';\n",
              "        element.innerHTML = '';\n",
              "        dataTable['output_type'] = 'display_data';\n",
              "        await google.colab.output.renderOutput(dataTable, element);\n",
              "        const docLink = document.createElement('div');\n",
              "        docLink.innerHTML = docLinkHtml;\n",
              "        element.appendChild(docLink);\n",
              "      }\n",
              "    </script>\n",
              "  </div>\n",
              "\n",
              "\n",
              "<div id=\"df-05867a58-ec18-4689-a153-c6ea373d5066\">\n",
              "  <button class=\"colab-df-quickchart\" onclick=\"quickchart('df-05867a58-ec18-4689-a153-c6ea373d5066')\"\n",
              "            title=\"Suggest charts\"\n",
              "            style=\"display:none;\">\n",
              "\n",
              "<svg xmlns=\"http://www.w3.org/2000/svg\" height=\"24px\"viewBox=\"0 0 24 24\"\n",
              "     width=\"24px\">\n",
              "    <g>\n",
              "        <path d=\"M19 3H5c-1.1 0-2 .9-2 2v14c0 1.1.9 2 2 2h14c1.1 0 2-.9 2-2V5c0-1.1-.9-2-2-2zM9 17H7v-7h2v7zm4 0h-2V7h2v10zm4 0h-2v-4h2v4z\"/>\n",
              "    </g>\n",
              "</svg>\n",
              "  </button>\n",
              "\n",
              "<style>\n",
              "  .colab-df-quickchart {\n",
              "      --bg-color: #E8F0FE;\n",
              "      --fill-color: #1967D2;\n",
              "      --hover-bg-color: #E2EBFA;\n",
              "      --hover-fill-color: #174EA6;\n",
              "      --disabled-fill-color: #AAA;\n",
              "      --disabled-bg-color: #DDD;\n",
              "  }\n",
              "\n",
              "  [theme=dark] .colab-df-quickchart {\n",
              "      --bg-color: #3B4455;\n",
              "      --fill-color: #D2E3FC;\n",
              "      --hover-bg-color: #434B5C;\n",
              "      --hover-fill-color: #FFFFFF;\n",
              "      --disabled-bg-color: #3B4455;\n",
              "      --disabled-fill-color: #666;\n",
              "  }\n",
              "\n",
              "  .colab-df-quickchart {\n",
              "    background-color: var(--bg-color);\n",
              "    border: none;\n",
              "    border-radius: 50%;\n",
              "    cursor: pointer;\n",
              "    display: none;\n",
              "    fill: var(--fill-color);\n",
              "    height: 32px;\n",
              "    padding: 0;\n",
              "    width: 32px;\n",
              "  }\n",
              "\n",
              "  .colab-df-quickchart:hover {\n",
              "    background-color: var(--hover-bg-color);\n",
              "    box-shadow: 0 1px 2px rgba(60, 64, 67, 0.3), 0 1px 3px 1px rgba(60, 64, 67, 0.15);\n",
              "    fill: var(--button-hover-fill-color);\n",
              "  }\n",
              "\n",
              "  .colab-df-quickchart-complete:disabled,\n",
              "  .colab-df-quickchart-complete:disabled:hover {\n",
              "    background-color: var(--disabled-bg-color);\n",
              "    fill: var(--disabled-fill-color);\n",
              "    box-shadow: none;\n",
              "  }\n",
              "\n",
              "  .colab-df-spinner {\n",
              "    border: 2px solid var(--fill-color);\n",
              "    border-color: transparent;\n",
              "    border-bottom-color: var(--fill-color);\n",
              "    animation:\n",
              "      spin 1s steps(1) infinite;\n",
              "  }\n",
              "\n",
              "  @keyframes spin {\n",
              "    0% {\n",
              "      border-color: transparent;\n",
              "      border-bottom-color: var(--fill-color);\n",
              "      border-left-color: var(--fill-color);\n",
              "    }\n",
              "    20% {\n",
              "      border-color: transparent;\n",
              "      border-left-color: var(--fill-color);\n",
              "      border-top-color: var(--fill-color);\n",
              "    }\n",
              "    30% {\n",
              "      border-color: transparent;\n",
              "      border-left-color: var(--fill-color);\n",
              "      border-top-color: var(--fill-color);\n",
              "      border-right-color: var(--fill-color);\n",
              "    }\n",
              "    40% {\n",
              "      border-color: transparent;\n",
              "      border-right-color: var(--fill-color);\n",
              "      border-top-color: var(--fill-color);\n",
              "    }\n",
              "    60% {\n",
              "      border-color: transparent;\n",
              "      border-right-color: var(--fill-color);\n",
              "    }\n",
              "    80% {\n",
              "      border-color: transparent;\n",
              "      border-right-color: var(--fill-color);\n",
              "      border-bottom-color: var(--fill-color);\n",
              "    }\n",
              "    90% {\n",
              "      border-color: transparent;\n",
              "      border-bottom-color: var(--fill-color);\n",
              "    }\n",
              "  }\n",
              "</style>\n",
              "\n",
              "  <script>\n",
              "    async function quickchart(key) {\n",
              "      const quickchartButtonEl =\n",
              "        document.querySelector('#' + key + ' button');\n",
              "      quickchartButtonEl.disabled = true;  // To prevent multiple clicks.\n",
              "      quickchartButtonEl.classList.add('colab-df-spinner');\n",
              "      try {\n",
              "        const charts = await google.colab.kernel.invokeFunction(\n",
              "            'suggestCharts', [key], {});\n",
              "      } catch (error) {\n",
              "        console.error('Error during call to suggestCharts:', error);\n",
              "      }\n",
              "      quickchartButtonEl.classList.remove('colab-df-spinner');\n",
              "      quickchartButtonEl.classList.add('colab-df-quickchart-complete');\n",
              "    }\n",
              "    (() => {\n",
              "      let quickchartButtonEl =\n",
              "        document.querySelector('#df-05867a58-ec18-4689-a153-c6ea373d5066 button');\n",
              "      quickchartButtonEl.style.display =\n",
              "        google.colab.kernel.accessAllowed ? 'block' : 'none';\n",
              "    })();\n",
              "  </script>\n",
              "</div>\n",
              "\n",
              "    </div>\n",
              "  </div>\n"
            ],
            "application/vnd.google.colaboratory.intrinsic+json": {
              "type": "dataframe",
              "variable_name": "df",
              "summary": "{\n  \"name\": \"df\",\n  \"rows\": 1258,\n  \"fields\": [\n    {\n      \"column\": \"Unnamed: 0\",\n      \"properties\": {\n        \"dtype\": \"number\",\n        \"std\": 363,\n        \"min\": 0,\n        \"max\": 1257,\n        \"num_unique_values\": 1258,\n        \"samples\": [\n          561,\n          101,\n          51\n        ],\n        \"semantic_type\": \"\",\n        \"description\": \"\"\n      }\n    },\n    {\n      \"column\": \"symbol\",\n      \"properties\": {\n        \"dtype\": \"category\",\n        \"num_unique_values\": 1,\n        \"samples\": [\n          \"AAPL\"\n        ],\n        \"semantic_type\": \"\",\n        \"description\": \"\"\n      }\n    },\n    {\n      \"column\": \"date\",\n      \"properties\": {\n        \"dtype\": \"object\",\n        \"num_unique_values\": 1258,\n        \"samples\": [\n          \"2017-08-16 00:00:00+00:00\"\n        ],\n        \"semantic_type\": \"\",\n        \"description\": \"\"\n      }\n    },\n    {\n      \"column\": \"close\",\n      \"properties\": {\n        \"dtype\": \"number\",\n        \"std\": 56.85079637576302,\n        \"min\": 90.34,\n        \"max\": 327.2,\n        \"num_unique_values\": 1201,\n        \"samples\": [\n          97.9\n        ],\n        \"semantic_type\": \"\",\n        \"description\": \"\"\n      }\n    },\n    {\n      \"column\": \"high\",\n      \"properties\": {\n        \"dtype\": \"number\",\n        \"std\": 57.500128210420044,\n        \"min\": 91.67,\n        \"max\": 327.85,\n        \"num_unique_values\": 1196,\n        \"samples\": [\n          177.78\n        ],\n        \"semantic_type\": \"\",\n        \"description\": \"\"\n      }\n    },\n    {\n      \"column\": \"low\",\n      \"properties\": {\n        \"dtype\": \"number\",\n        \"std\": 56.0067733750934,\n        \"min\": 89.47,\n        \"max\": 323.35,\n        \"num_unique_values\": 1209,\n        \"samples\": [\n          113.7\n        ],\n        \"semantic_type\": \"\",\n        \"description\": \"\"\n      }\n    },\n    {\n      \"column\": \"open\",\n      \"properties\": {\n        \"dtype\": \"number\",\n        \"std\": 56.612706510014405,\n        \"min\": 90.0,\n        \"max\": 324.73,\n        \"num_unique_values\": 1205,\n        \"samples\": [\n          114.0\n        ],\n        \"semantic_type\": \"\",\n        \"description\": \"\"\n      }\n    },\n    {\n      \"column\": \"volume\",\n      \"properties\": {\n        \"dtype\": \"number\",\n        \"std\": 17290996,\n        \"min\": 11362045,\n        \"max\": 162206292,\n        \"num_unique_values\": 1258,\n        \"samples\": [\n          27321761\n        ],\n        \"semantic_type\": \"\",\n        \"description\": \"\"\n      }\n    },\n    {\n      \"column\": \"adjClose\",\n      \"properties\": {\n        \"dtype\": \"number\",\n        \"std\": 58.73382042107333,\n        \"min\": 84.9543507876,\n        \"max\": 326.3371474514,\n        \"num_unique_values\": 1240,\n        \"samples\": [\n          115.3255043138\n        ],\n        \"semantic_type\": \"\",\n        \"description\": \"\"\n      }\n    },\n    {\n      \"column\": \"adjHigh\",\n      \"properties\": {\n        \"dtype\": \"number\",\n        \"std\": 59.4028420444512,\n        \"min\": 86.2050623943,\n        \"max\": 326.3570947098,\n        \"num_unique_values\": 1237,\n        \"samples\": [\n          167.7436178294\n        ],\n        \"semantic_type\": \"\",\n        \"description\": \"\"\n      }\n    },\n    {\n      \"column\": \"adjLow\",\n      \"properties\": {\n        \"dtype\": \"number\",\n        \"std\": 57.86924613698459,\n        \"min\": 84.13621612760001,\n        \"max\": 322.497300209,\n        \"num_unique_values\": 1238,\n        \"samples\": [\n          164.4602079237\n        ],\n        \"semantic_type\": \"\",\n        \"description\": \"\"\n      }\n    },\n    {\n      \"column\": \"adjOpen\",\n      \"properties\": {\n        \"dtype\": \"number\",\n        \"std\": 58.494560063550416,\n        \"min\": 84.6346200009,\n        \"max\": 323.87366103880004,\n        \"num_unique_values\": 1237,\n        \"samples\": [\n          165.310031664\n        ],\n        \"semantic_type\": \"\",\n        \"description\": \"\"\n      }\n    },\n    {\n      \"column\": \"adjVolume\",\n      \"properties\": {\n        \"dtype\": \"number\",\n        \"std\": 17290996,\n        \"min\": 11362045,\n        \"max\": 162206292,\n        \"num_unique_values\": 1258,\n        \"samples\": [\n          27321761\n        ],\n        \"semantic_type\": \"\",\n        \"description\": \"\"\n      }\n    },\n    {\n      \"column\": \"divCash\",\n      \"properties\": {\n        \"dtype\": \"number\",\n        \"std\": 0.08336553314965248,\n        \"min\": 0.0,\n        \"max\": 0.82,\n        \"num_unique_values\": 7,\n        \"samples\": [\n          0.0\n        ],\n        \"semantic_type\": \"\",\n        \"description\": \"\"\n      }\n    },\n    {\n      \"column\": \"splitFactor\",\n      \"properties\": {\n        \"dtype\": \"number\",\n        \"std\": 0.0,\n        \"min\": 1.0,\n        \"max\": 1.0,\n        \"num_unique_values\": 1,\n        \"samples\": [\n          1.0\n        ],\n        \"semantic_type\": \"\",\n        \"description\": \"\"\n      }\n    }\n  ]\n}"
            }
          },
          "metadata": {},
          "execution_count": 8
        }
      ]
    },
    {
      "cell_type": "code",
      "source": [
        "df1=df['close']"
      ],
      "metadata": {
        "id": "uH9WWn_qB4Aq"
      },
      "execution_count": 9,
      "outputs": []
    },
    {
      "cell_type": "code",
      "source": [
        "df1"
      ],
      "metadata": {
        "colab": {
          "base_uri": "https://localhost:8080/"
        },
        "id": "xnEO5VAaCCe_",
        "outputId": "5f1e23bd-70df-4427-d839-64501c01598d"
      },
      "execution_count": 10,
      "outputs": [
        {
          "output_type": "execute_result",
          "data": {
            "text/plain": [
              "0       132.045\n",
              "1       131.780\n",
              "2       130.280\n",
              "3       130.535\n",
              "4       129.960\n",
              "         ...   \n",
              "1253    314.960\n",
              "1254    313.140\n",
              "1255    319.230\n",
              "1256    316.850\n",
              "1257    318.890\n",
              "Name: close, Length: 1258, dtype: float64"
            ]
          },
          "metadata": {},
          "execution_count": 10
        }
      ]
    },
    {
      "cell_type": "code",
      "source": [
        "import matplotlib.pyplot as plt\n",
        "plt.plot(df1)"
      ],
      "metadata": {
        "colab": {
          "base_uri": "https://localhost:8080/",
          "height": 447
        },
        "id": "fNVI3c2eCDO1",
        "outputId": "4c1704ce-e1d5-4ce6-fb49-2a3f713a718e"
      },
      "execution_count": 11,
      "outputs": [
        {
          "output_type": "execute_result",
          "data": {
            "text/plain": [
              "[<matplotlib.lines.Line2D at 0x7c132d08d1e0>]"
            ]
          },
          "metadata": {},
          "execution_count": 11
        },
        {
          "output_type": "display_data",
          "data": {
            "text/plain": [
              "<Figure size 640x480 with 1 Axes>"
            ],
            "image/png": "[encoded data removed]"
          },
          "metadata": {}
        }
      ]
    },
    {
      "cell_type": "code",
      "source": [
        "import numpy as np"
      ],
      "metadata": {
        "id": "noNJigkaCHdS"
      },
      "execution_count": 12,
      "outputs": []
    },
    {
      "cell_type": "code",
      "source": [
        "from sklearn.preprocessing import MinMaxScaler\n",
        "scaler=MinMaxScaler(feature_range=(0,1))\n",
        "df1=scaler.fit_transform(np.array(df1).reshape(-1,1))"
      ],
      "metadata": {
        "id": "6N-nSZEICKE8"
      },
      "execution_count": 13,
      "outputs": []
    },
    {
      "cell_type": "code",
      "source": [
        "df1"
      ],
      "metadata": {
        "colab": {
          "base_uri": "https://localhost:8080/"
        },
        "id": "8T023RDnCMnX",
        "outputId": "541077aa-c406-4252-c71b-495d84e22ffe"
      },
      "execution_count": 14,
      "outputs": [
        {
          "output_type": "execute_result",
          "data": {
            "text/plain": [
              "array([[0.17607447],\n",
              "       [0.17495567],\n",
              "       [0.16862282],\n",
              "       ...,\n",
              "       [0.96635143],\n",
              "       [0.9563033 ],\n",
              "       [0.96491598]])"
            ]
          },
          "metadata": {},
          "execution_count": 14
        }
      ]
    },
    {
      "cell_type": "code",
      "source": [
        "##splitting dataset into train and test split\n",
        "training_size=int(len(df1)*0.70)\n",
        "test_size=len(df1)-training_size\n",
        "train_data,test_data=df1[0:training_size,:],df1[training_size:len(df1),:1]"
      ],
      "metadata": {
        "id": "9_tgZgj8COCN"
      },
      "execution_count": 16,
      "outputs": []
    },
    {
      "cell_type": "code",
      "source": [
        "import numpy\n",
        "# convert an array of values into a dataset matrix\n",
        "def create_dataset(dataset, time_step=1):\n",
        "\tdataX, dataY = [], []\n",
        "\tfor i in range(len(dataset)-time_step-1):\n",
        "\t\ta = dataset[i:(i+time_step), 0]   ###i=0, 0,1,2,3-----99   100\n",
        "\t\tdataX.append(a)\n",
        "\t\tdataY.append(dataset[i + time_step, 0])\n",
        "\treturn numpy.array(dataX), numpy.array(dataY)"
      ],
      "metadata": {
        "id": "jtlAuIXhCQGh"
      },
      "execution_count": 17,
      "outputs": []
    },
    {
      "cell_type": "code",
      "source": [
        "# reshape into X=t,t+1,t+2,t+3 and Y=t+4\n",
        "time_step = 100\n",
        "X_train, y_train = create_dataset(train_data, time_step)\n",
        "X_test, ytest = create_dataset(test_data, time_step)"
      ],
      "metadata": {
        "id": "qw2OE4NhCYut"
      },
      "execution_count": 18,
      "outputs": []
    },
    {
      "cell_type": "code",
      "source": [
        "# reshape input to be [samples, time steps, features] which is required for LSTM\n",
        "X_train =X_train.reshape(X_train.shape[0],X_train.shape[1] , 1)\n",
        "X_test = X_test.reshape(X_test.shape[0],X_test.shape[1] , 1)"
      ],
      "metadata": {
        "id": "RMTaQkFoCaVE"
      },
      "execution_count": 19,
      "outputs": []
    },
    {
      "cell_type": "code",
      "source": [
        "### Create the Stacked LSTM model\n",
        "from tensorflow.keras.models import Sequential\n",
        "from tensorflow.keras.layers import Dense\n",
        "from tensorflow.keras.layers import LSTM"
      ],
      "metadata": {
        "id": "vvPrrKllCcO1"
      },
      "execution_count": 20,
      "outputs": []
    },
    {
      "cell_type": "code",
      "source": [
        "model=Sequential()\n",
        "model.add(LSTM(50,return_sequences=True,input_shape=(100,1)))\n",
        "model.add(LSTM(50,return_sequences=True))\n",
        "model.add(LSTM(50))\n",
        "model.add(Dense(1))\n",
        "model.compile(loss='mean_squared_error',optimizer='adam')"
      ],
      "metadata": {
        "id": "mV8k-3HbCdkO"
      },
      "execution_count": 21,
      "outputs": []
    },
    {
      "cell_type": "code",
      "source": [
        "model.summary()\n"
      ],
      "metadata": {
        "colab": {
          "base_uri": "https://localhost:8080/"
        },
        "id": "kLOAJc8ZCfF9",
        "outputId": "b2c263cd-645c-48b2-8dfb-fd63da1513f6"
      },
      "execution_count": 22,
      "outputs": [
        {
          "output_type": "stream",
          "name": "stdout",
          "text": [
            "Model: \"sequential\"\n",
            "_________________________________________________________________\n",
            " Layer (type)                Output Shape              Param #   \n",
            "=================================================================\n",
            " lstm (LSTM)                 (None, 100, 50)           10400     \n",
            "                                                                 \n",
            " lstm_1 (LSTM)               (None, 100, 50)           20200     \n",
            "                                                                 \n",
            " lstm_2 (LSTM)               (None, 50)                20200     \n",
            "                                                                 \n",
            " dense (Dense)               (None, 1)                 51        \n",
            "                                                                 \n",
            "=================================================================\n",
            "Total params: 50851 (198.64 KB)\n",
            "Trainable params: 50851 (198.64 KB)\n",
            "Non-trainable params: 0 (0.00 Byte)\n",
            "_________________________________________________________________\n"
          ]
        }
      ]
    },
    {
      "cell_type": "code",
      "source": [
        "\n",
        "model.fit(X_train,y_train,validation_data=(X_test,ytest),epochs=100,batch_size=64,verbose=1)"
      ],
      "metadata": {
        "colab": {
          "base_uri": "https://localhost:8080/"
        },
        "id": "r9gGB50XCgfB",
        "outputId": "88d1f1b7-4f36-46c9-da7e-9665a2f4dc16"
      },
      "execution_count": 23,
      "outputs": [
        {
          "output_type": "stream",
          "name": "stdout",
          "text": [
            "Epoch 1/100\n",
            "13/13 [==============================] - 9s 254ms/step - loss: 0.0167 - val_loss: 0.0627\n",
            "Epoch 2/100\n",
            "13/13 [==============================] - 2s 158ms/step - loss: 0.0029 - val_loss: 0.0090\n",
            "Epoch 3/100\n",
            "13/13 [==============================] - 2s 177ms/step - loss: 0.0011 - val_loss: 0.0050\n",
            "Epoch 4/100\n",
            "13/13 [==============================] - 2s 138ms/step - loss: 8.5743e-04 - val_loss: 0.0061\n",
            "Epoch 5/100\n",
            "13/13 [==============================] - 2s 144ms/step - loss: 7.3145e-04 - val_loss: 0.0050\n",
            "Epoch 6/100\n",
            "13/13 [==============================] - 2s 150ms/step - loss: 7.6055e-04 - val_loss: 0.0061\n",
            "Epoch 7/100\n",
            "13/13 [==============================] - 2s 144ms/step - loss: 7.2752e-04 - val_loss: 0.0079\n",
            "Epoch 8/100\n",
            "13/13 [==============================] - 2s 146ms/step - loss: 7.3666e-04 - val_loss: 0.0065\n",
            "Epoch 9/100\n",
            "13/13 [==============================] - 2s 169ms/step - loss: 6.8963e-04 - val_loss: 0.0067\n",
            "Epoch 10/100\n",
            "13/13 [==============================] - 2s 144ms/step - loss: 6.9756e-04 - val_loss: 0.0055\n",
            "Epoch 11/100\n",
            "13/13 [==============================] - 2s 146ms/step - loss: 7.6673e-04 - val_loss: 0.0052\n",
            "Epoch 12/100\n",
            "13/13 [==============================] - 2s 149ms/step - loss: 6.7084e-04 - val_loss: 0.0060\n",
            "Epoch 13/100\n",
            "13/13 [==============================] - 2s 144ms/step - loss: 6.3859e-04 - val_loss: 0.0047\n",
            "Epoch 14/100\n",
            "13/13 [==============================] - 2s 144ms/step - loss: 6.6230e-04 - val_loss: 0.0043\n",
            "Epoch 15/100\n",
            "13/13 [==============================] - 2s 178ms/step - loss: 7.3052e-04 - val_loss: 0.0084\n",
            "Epoch 16/100\n",
            "13/13 [==============================] - 2s 133ms/step - loss: 7.0184e-04 - val_loss: 0.0086\n",
            "Epoch 17/100\n",
            "13/13 [==============================] - 2s 134ms/step - loss: 6.2877e-04 - val_loss: 0.0058\n",
            "Epoch 18/100\n",
            "13/13 [==============================] - 2s 145ms/step - loss: 5.9596e-04 - val_loss: 0.0052\n",
            "Epoch 19/100\n",
            "13/13 [==============================] - 2s 134ms/step - loss: 5.6840e-04 - val_loss: 0.0065\n",
            "Epoch 20/100\n",
            "13/13 [==============================] - 2s 142ms/step - loss: 5.9804e-04 - val_loss: 0.0036\n",
            "Epoch 21/100\n",
            "13/13 [==============================] - 2s 189ms/step - loss: 6.3675e-04 - val_loss: 0.0055\n",
            "Epoch 22/100\n",
            "13/13 [==============================] - 2s 149ms/step - loss: 5.5533e-04 - val_loss: 0.0080\n",
            "Epoch 23/100\n",
            "13/13 [==============================] - 2s 139ms/step - loss: 5.8321e-04 - val_loss: 0.0050\n",
            "Epoch 24/100\n",
            "13/13 [==============================] - 2s 158ms/step - loss: 5.6081e-04 - val_loss: 0.0053\n",
            "Epoch 25/100\n",
            "13/13 [==============================] - 2s 133ms/step - loss: 5.1955e-04 - val_loss: 0.0032\n",
            "Epoch 26/100\n",
            "13/13 [==============================] - 2s 155ms/step - loss: 5.6693e-04 - val_loss: 0.0059\n",
            "Epoch 27/100\n",
            "13/13 [==============================] - 2s 191ms/step - loss: 5.0345e-04 - val_loss: 0.0035\n",
            "Epoch 28/100\n",
            "13/13 [==============================] - 2s 150ms/step - loss: 5.1800e-04 - val_loss: 0.0072\n",
            "Epoch 29/100\n",
            "13/13 [==============================] - 2s 138ms/step - loss: 5.6592e-04 - val_loss: 0.0030\n",
            "Epoch 30/100\n",
            "13/13 [==============================] - 2s 143ms/step - loss: 4.7793e-04 - val_loss: 0.0022\n",
            "Epoch 31/100\n",
            "13/13 [==============================] - 2s 141ms/step - loss: 5.3406e-04 - val_loss: 0.0045\n",
            "Epoch 32/100\n",
            "13/13 [==============================] - 2s 156ms/step - loss: 4.6311e-04 - val_loss: 0.0024\n",
            "Epoch 33/100\n",
            "13/13 [==============================] - 3s 189ms/step - loss: 4.4446e-04 - val_loss: 0.0047\n",
            "Epoch 34/100\n",
            "13/13 [==============================] - 2s 144ms/step - loss: 4.9992e-04 - val_loss: 0.0019\n",
            "Epoch 35/100\n",
            "13/13 [==============================] - 2s 142ms/step - loss: 4.4816e-04 - val_loss: 0.0034\n",
            "Epoch 36/100\n",
            "13/13 [==============================] - 2s 139ms/step - loss: 4.3347e-04 - val_loss: 0.0025\n",
            "Epoch 37/100\n",
            "13/13 [==============================] - 2s 147ms/step - loss: 4.7649e-04 - val_loss: 0.0017\n",
            "Epoch 38/100\n",
            "13/13 [==============================] - 2s 158ms/step - loss: 5.1828e-04 - val_loss: 0.0037\n",
            "Epoch 39/100\n",
            "13/13 [==============================] - 3s 219ms/step - loss: 4.1763e-04 - val_loss: 0.0021\n",
            "Epoch 40/100\n",
            "13/13 [==============================] - 2s 143ms/step - loss: 4.1209e-04 - val_loss: 0.0029\n",
            "Epoch 41/100\n",
            "13/13 [==============================] - 2s 141ms/step - loss: 4.0704e-04 - val_loss: 0.0017\n",
            "Epoch 42/100\n",
            "13/13 [==============================] - 2s 150ms/step - loss: 4.1934e-04 - val_loss: 0.0027\n",
            "Epoch 43/100\n",
            "13/13 [==============================] - 2s 149ms/step - loss: 4.0061e-04 - val_loss: 0.0023\n",
            "Epoch 44/100\n",
            "13/13 [==============================] - 2s 191ms/step - loss: 3.8738e-04 - val_loss: 0.0035\n",
            "Epoch 45/100\n",
            "13/13 [==============================] - 2s 153ms/step - loss: 3.9579e-04 - val_loss: 0.0021\n",
            "Epoch 46/100\n",
            "13/13 [==============================] - 2s 152ms/step - loss: 3.8646e-04 - val_loss: 0.0016\n",
            "Epoch 47/100\n",
            "13/13 [==============================] - 2s 147ms/step - loss: 4.0304e-04 - val_loss: 0.0023\n",
            "Epoch 48/100\n",
            "13/13 [==============================] - 2s 148ms/step - loss: 4.0173e-04 - val_loss: 0.0027\n",
            "Epoch 49/100\n",
            "13/13 [==============================] - 2s 153ms/step - loss: 3.8155e-04 - val_loss: 0.0015\n",
            "Epoch 50/100\n",
            "13/13 [==============================] - 3s 208ms/step - loss: 3.6843e-04 - val_loss: 0.0023\n",
            "Epoch 51/100\n",
            "13/13 [==============================] - 2s 133ms/step - loss: 3.6040e-04 - val_loss: 0.0016\n",
            "Epoch 52/100\n",
            "13/13 [==============================] - 2s 157ms/step - loss: 3.7783e-04 - val_loss: 0.0016\n",
            "Epoch 53/100\n",
            "13/13 [==============================] - 2s 134ms/step - loss: 4.0626e-04 - val_loss: 0.0040\n",
            "Epoch 54/100\n",
            "13/13 [==============================] - 2s 141ms/step - loss: 4.5091e-04 - val_loss: 0.0019\n",
            "Epoch 55/100\n",
            "13/13 [==============================] - 2s 128ms/step - loss: 3.6970e-04 - val_loss: 0.0016\n",
            "Epoch 56/100\n",
            "13/13 [==============================] - 3s 207ms/step - loss: 4.2331e-04 - val_loss: 0.0035\n",
            "Epoch 57/100\n",
            "13/13 [==============================] - 2s 153ms/step - loss: 4.0666e-04 - val_loss: 0.0018\n",
            "Epoch 58/100\n",
            "13/13 [==============================] - 2s 147ms/step - loss: 3.7967e-04 - val_loss: 0.0017\n",
            "Epoch 59/100\n",
            "13/13 [==============================] - 2s 146ms/step - loss: 4.4221e-04 - val_loss: 0.0023\n",
            "Epoch 60/100\n",
            "13/13 [==============================] - 2s 134ms/step - loss: 3.6041e-04 - val_loss: 0.0016\n",
            "Epoch 61/100\n",
            "13/13 [==============================] - 2s 130ms/step - loss: 3.3938e-04 - val_loss: 0.0015\n",
            "Epoch 62/100\n",
            "13/13 [==============================] - 2s 188ms/step - loss: 3.2766e-04 - val_loss: 0.0014\n",
            "Epoch 63/100\n",
            "13/13 [==============================] - 2s 152ms/step - loss: 3.3293e-04 - val_loss: 0.0018\n",
            "Epoch 64/100\n",
            "13/13 [==============================] - 2s 148ms/step - loss: 3.1481e-04 - val_loss: 0.0014\n",
            "Epoch 65/100\n",
            "13/13 [==============================] - 2s 157ms/step - loss: 3.2554e-04 - val_loss: 0.0014\n",
            "Epoch 66/100\n",
            "13/13 [==============================] - 2s 147ms/step - loss: 3.3512e-04 - val_loss: 0.0017\n",
            "Epoch 67/100\n",
            "13/13 [==============================] - 2s 127ms/step - loss: 3.1536e-04 - val_loss: 0.0019\n",
            "Epoch 68/100\n",
            "13/13 [==============================] - 3s 204ms/step - loss: 3.3470e-04 - val_loss: 0.0025\n",
            "Epoch 69/100\n",
            "13/13 [==============================] - 2s 142ms/step - loss: 3.1751e-04 - val_loss: 0.0015\n",
            "Epoch 70/100\n",
            "13/13 [==============================] - 2s 131ms/step - loss: 3.1107e-04 - val_loss: 0.0020\n",
            "Epoch 71/100\n",
            "13/13 [==============================] - 2s 133ms/step - loss: 2.9794e-04 - val_loss: 0.0015\n",
            "Epoch 72/100\n",
            "13/13 [==============================] - 2s 148ms/step - loss: 2.8923e-04 - val_loss: 0.0015\n",
            "Epoch 73/100\n",
            "13/13 [==============================] - 2s 134ms/step - loss: 2.9309e-04 - val_loss: 0.0020\n",
            "Epoch 74/100\n",
            "13/13 [==============================] - 3s 210ms/step - loss: 3.0336e-04 - val_loss: 0.0019\n",
            "Epoch 75/100\n",
            "13/13 [==============================] - 2s 139ms/step - loss: 2.9740e-04 - val_loss: 0.0012\n",
            "Epoch 76/100\n",
            "13/13 [==============================] - 2s 135ms/step - loss: 2.9465e-04 - val_loss: 0.0013\n",
            "Epoch 77/100\n",
            "13/13 [==============================] - 2s 138ms/step - loss: 2.8433e-04 - val_loss: 0.0015\n",
            "Epoch 78/100\n",
            "13/13 [==============================] - 2s 137ms/step - loss: 2.6695e-04 - val_loss: 0.0011\n",
            "Epoch 79/100\n",
            "13/13 [==============================] - 2s 152ms/step - loss: 2.7391e-04 - val_loss: 0.0024\n",
            "Epoch 80/100\n",
            "13/13 [==============================] - 2s 187ms/step - loss: 2.8694e-04 - val_loss: 0.0011\n",
            "Epoch 81/100\n",
            "13/13 [==============================] - 2s 152ms/step - loss: 2.8425e-04 - val_loss: 0.0012\n",
            "Epoch 82/100\n",
            "13/13 [==============================] - 2s 148ms/step - loss: 2.5928e-04 - val_loss: 0.0019\n",
            "Epoch 83/100\n",
            "13/13 [==============================] - 2s 149ms/step - loss: 2.6693e-04 - val_loss: 0.0026\n",
            "Epoch 84/100\n",
            "13/13 [==============================] - 2s 149ms/step - loss: 3.0320e-04 - val_loss: 0.0025\n",
            "Epoch 85/100\n",
            "13/13 [==============================] - 2s 133ms/step - loss: 2.8943e-04 - val_loss: 0.0011\n",
            "Epoch 86/100\n",
            "13/13 [==============================] - 2s 191ms/step - loss: 2.5378e-04 - val_loss: 0.0014\n",
            "Epoch 87/100\n",
            "13/13 [==============================] - 2s 142ms/step - loss: 2.6784e-04 - val_loss: 0.0021\n",
            "Epoch 88/100\n",
            "13/13 [==============================] - 2s 139ms/step - loss: 2.4824e-04 - val_loss: 0.0011\n",
            "Epoch 89/100\n",
            "13/13 [==============================] - 2s 132ms/step - loss: 2.4668e-04 - val_loss: 0.0011\n",
            "Epoch 90/100\n",
            "13/13 [==============================] - 2s 142ms/step - loss: 2.3563e-04 - val_loss: 0.0015\n",
            "Epoch 91/100\n",
            "13/13 [==============================] - 2s 137ms/step - loss: 2.4805e-04 - val_loss: 0.0015\n",
            "Epoch 92/100\n",
            "13/13 [==============================] - 2s 165ms/step - loss: 2.9162e-04 - val_loss: 0.0015\n",
            "Epoch 93/100\n",
            "13/13 [==============================] - 2s 170ms/step - loss: 2.7679e-04 - val_loss: 0.0012\n",
            "Epoch 94/100\n",
            "13/13 [==============================] - 2s 125ms/step - loss: 2.2377e-04 - val_loss: 0.0013\n",
            "Epoch 95/100\n",
            "13/13 [==============================] - 2s 138ms/step - loss: 2.2463e-04 - val_loss: 0.0012\n",
            "Epoch 96/100\n",
            "13/13 [==============================] - 2s 119ms/step - loss: 2.1659e-04 - val_loss: 0.0019\n",
            "Epoch 97/100\n",
            "13/13 [==============================] - 2s 126ms/step - loss: 2.3096e-04 - val_loss: 0.0015\n",
            "Epoch 98/100\n",
            "13/13 [==============================] - 2s 131ms/step - loss: 2.2554e-04 - val_loss: 0.0022\n",
            "Epoch 99/100\n",
            "13/13 [==============================] - 2s 186ms/step - loss: 2.3101e-04 - val_loss: 0.0017\n",
            "Epoch 100/100\n",
            "13/13 [==============================] - 2s 146ms/step - loss: 2.2082e-04 - val_loss: 0.0012\n"
          ]
        },
        {
          "output_type": "execute_result",
          "data": {
            "text/plain": [
              "<keras.src.callbacks.History at 0x7c12c907d720>"
            ]
          },
          "metadata": {},
          "execution_count": 23
        }
      ]
    },
    {
      "cell_type": "code",
      "source": [
        "import tensorflow as tf\n"
      ],
      "metadata": {
        "id": "sBznmwY7Cibf"
      },
      "execution_count": 24,
      "outputs": []
    },
    {
      "cell_type": "code",
      "source": [
        "### Lets Do the prediction and check performance metrics\n",
        "train_predict=model.predict(X_train)\n",
        "test_predict=model.predict(X_test)"
      ],
      "metadata": {
        "colab": {
          "base_uri": "https://localhost:8080/"
        },
        "id": "HdZj8EqrDdPj",
        "outputId": "dd4304a8-3b9c-42b2-9a5d-3bc051dca001"
      },
      "execution_count": 25,
      "outputs": [
        {
          "output_type": "stream",
          "name": "stdout",
          "text": [
            "25/25 [==============================] - 3s 28ms/step\n",
            "9/9 [==============================] - 0s 26ms/step\n"
          ]
        }
      ]
    },
    {
      "cell_type": "code",
      "source": [
        "##Transformback to original form\n",
        "train_predict=scaler.inverse_transform(train_predict)\n",
        "test_predict=scaler.inverse_transform(test_predict)"
      ],
      "metadata": {
        "id": "g1N_sg2BDfJJ"
      },
      "execution_count": 26,
      "outputs": []
    },
    {
      "cell_type": "code",
      "source": [
        "from sklearn.metrics import accuracy_score, precision_score, recall_score, f1_score\n",
        "import numpy as np\n",
        "\n",
        "# Define a threshold to classify as 0 or 1\n",
        "threshold = 0.5\n",
        "\n",
        "# Convert target variables to binary\n",
        "y_train_binary = (y_train > threshold).astype(int)\n",
        "y_test_binary = (ytest > threshold).astype(int)\n",
        "\n",
        "# Make predictions on training set\n",
        "train_predictions = model.predict(X_train)\n",
        "train_predictions_binary = (train_predictions > threshold).astype(int)\n",
        "\n",
        "# Make predictions on validation set\n",
        "val_predictions = model.predict(X_test)\n",
        "val_predictions_binary = (val_predictions > threshold).astype(int)\n",
        "\n",
        "# Calculate classification metrics for training set\n",
        "train_accuracy = accuracy_score(y_train_binary, train_predictions_binary)\n",
        "train_precision = precision_score(y_train_binary, train_predictions_binary)\n",
        "train_recall = recall_score(y_train_binary, train_predictions_binary)\n",
        "train_f1 = f1_score(y_train_binary, train_predictions_binary)\n",
        "\n",
        "# Calculate classification metrics for validation set\n",
        "val_accuracy = accuracy_score(y_test_binary, val_predictions_binary)\n",
        "val_precision = precision_score(y_test_binary, val_predictions_binary)\n",
        "val_recall = recall_score(y_test_binary, val_predictions_binary)\n",
        "val_f1 = f1_score(y_test_binary, val_predictions_binary)\n",
        "\n",
        "# Print the classification metrics\n",
        "print(\"Training Accuracy:\", train_accuracy)\n",
        "print(\"Training Precision:\", train_precision)\n",
        "print(\"Training Recall:\", train_recall)\n",
        "print(\"Training F1-score:\", train_f1)\n",
        "print(\"\\nValidation Accuracy:\", val_accuracy)\n",
        "print(\"Validation Precision:\", val_precision)\n",
        "print(\"Validation Recall:\", val_recall)\n",
        "print(\"Validation F1-score:\", val_f1)\n"
      ],
      "metadata": {
        "colab": {
          "base_uri": "https://localhost:8080/"
        },
        "id": "eIuEjrpuDnDK",
        "outputId": "ed6d5719-e3ad-4685-a618-f48e9f39b131"
      },
      "execution_count": 29,
      "outputs": [
        {
          "output_type": "stream",
          "name": "stdout",
          "text": [
            "25/25 [==============================] - 1s 27ms/step\n",
            "9/9 [==============================] - 0s 27ms/step\n",
            "Training Accuracy: 0.9871630295250321\n",
            "Training Precision: 0.9322033898305084\n",
            "Training Recall: 0.9016393442622951\n",
            "Training F1-score: 0.9166666666666666\n",
            "\n",
            "Validation Accuracy: 0.9314079422382672\n",
            "Validation Precision: 0.9781420765027322\n",
            "Validation Recall: 0.9226804123711341\n",
            "Validation F1-score: 0.9496021220159152\n"
          ]
        }
      ]
    },
    {
      "cell_type": "markdown",
      "source": [
        "**Using Logistic Regression**"
      ],
      "metadata": {
        "id": "nJoK7VqJEQLE"
      }
    },
    {
      "cell_type": "code",
      "source": [
        "from sklearn.linear_model import LogisticRegression\n",
        "from sklearn.metrics import accuracy_score, precision_score, recall_score, f1_score\n",
        "import numpy as np\n",
        "\n",
        "# Assuming you have X_train, y_train, X_test, ytest\n",
        "\n",
        "# Reshape or flatten the input data\n",
        "X_train_flat = X_train.reshape(X_train.shape[0], -1)\n",
        "X_test_flat = X_test.reshape(X_test.shape[0], -1)\n",
        "\n",
        "# Define a threshold to classify continuous values into binary classes\n",
        "threshold = 0.5\n",
        "\n",
        "# Convert target variables to binary\n",
        "y_train_binary = (y_train > threshold).astype(int)\n",
        "y_test_binary = (ytest > threshold).astype(int)\n",
        "\n",
        "# Define and train the logistic regression model\n",
        "logistic_model = LogisticRegression()\n",
        "logistic_model.fit(X_train_flat, y_train_binary)\n",
        "\n",
        "# Make predictions on training set\n",
        "train_predictions_binary = logistic_model.predict(X_train_flat)\n",
        "\n",
        "# Make predictions on validation set\n",
        "val_predictions_binary = logistic_model.predict(X_test_flat)\n",
        "\n",
        "# Calculate classification metrics for training set\n",
        "train_accuracy = accuracy_score(y_train_binary, train_predictions_binary)\n",
        "train_precision = precision_score(y_train_binary, train_predictions_binary)\n",
        "train_recall = recall_score(y_train_binary, train_predictions_binary)\n",
        "train_f1 = f1_score(y_train_binary, train_predictions_binary)\n",
        "\n",
        "# Calculate classification metrics for validation set\n",
        "val_accuracy = accuracy_score(y_test_binary, val_predictions_binary)\n",
        "val_precision = precision_score(y_test_binary, val_predictions_binary)\n",
        "val_recall = recall_score(y_test_binary, val_predictions_binary)\n",
        "val_f1 = f1_score(y_test_binary, val_predictions_binary)\n",
        "\n",
        "# Print the classification metrics\n",
        "print(\"Training Accuracy:\", train_accuracy)\n",
        "print(\"Training Precision:\", train_precision)\n",
        "print(\"Training Recall:\", train_recall)\n",
        "print(\"Training F1-score:\", train_f1)\n",
        "print(\"\\nValidation Accuracy:\", val_accuracy)\n",
        "print(\"Validation Precision:\", val_precision)\n",
        "print(\"Validation Recall:\", val_recall)\n",
        "print(\"Validation F1-score:\", val_f1)\n"
      ],
      "metadata": {
        "colab": {
          "base_uri": "https://localhost:8080/"
        },
        "id": "0kg2lQGTETjL",
        "outputId": "3b40d53a-666e-4632-b2dc-84cc945cf42c"
      },
      "execution_count": 31,
      "outputs": [
        {
          "output_type": "stream",
          "name": "stdout",
          "text": [
            "Training Accuracy: 0.9743260590500642\n",
            "Training Precision: 0.8360655737704918\n",
            "Training Recall: 0.8360655737704918\n",
            "Training F1-score: 0.8360655737704918\n",
            "\n",
            "Validation Accuracy: 0.9205776173285198\n",
            "Validation Precision: 0.9134615384615384\n",
            "Validation Recall: 0.979381443298969\n",
            "Validation F1-score: 0.9452736318407959\n"
          ]
        }
      ]
    },
    {
      "cell_type": "markdown",
      "source": [
        "**Using KNN**"
      ],
      "metadata": {
        "id": "GgHJTo1qEdj7"
      }
    },
    {
      "cell_type": "code",
      "source": [
        "from sklearn.neighbors import KNeighborsClassifier\n",
        "from sklearn.metrics import accuracy_score, precision_score, recall_score, f1_score\n",
        "import numpy as np\n",
        "\n",
        "# Assuming you have X_train, y_train, X_test, ytest\n",
        "\n",
        "# Reshape or flatten the input data\n",
        "X_train_flat = X_train.reshape(X_train.shape[0], -1)\n",
        "X_test_flat = X_test.reshape(X_test.shape[0], -1)\n",
        "\n",
        "# Define a threshold to classify continuous values into binary classes\n",
        "threshold = 0.5\n",
        "\n",
        "# Convert target variables to binary\n",
        "y_train_binary = (y_train > threshold).astype(int)\n",
        "y_test_binary = (ytest > threshold).astype(int)\n",
        "\n",
        "# Define and train the KNN model\n",
        "knn_model = KNeighborsClassifier()\n",
        "knn_model.fit(X_train_flat, y_train_binary)\n",
        "\n",
        "# Make predictions on training set\n",
        "train_predictions_binary = knn_model.predict(X_train_flat)\n",
        "\n",
        "# Make predictions on validation set\n",
        "val_predictions_binary = knn_model.predict(X_test_flat)\n",
        "\n",
        "# Calculate classification metrics for training set\n",
        "train_accuracy = accuracy_score(y_train_binary, train_predictions_binary)\n",
        "train_precision = precision_score(y_train_binary, train_predictions_binary)\n",
        "train_recall = recall_score(y_train_binary, train_predictions_binary)\n",
        "train_f1 = f1_score(y_train_binary, train_predictions_binary)\n",
        "\n",
        "# Calculate classification metrics for validation set\n",
        "val_accuracy = accuracy_score(y_test_binary, val_predictions_binary)\n",
        "val_precision = precision_score(y_test_binary, val_predictions_binary)\n",
        "val_recall = recall_score(y_test_binary, val_predictions_binary)\n",
        "val_f1 = f1_score(y_test_binary, val_predictions_binary)\n",
        "\n",
        "# Print the classification metrics\n",
        "print(\"Training Accuracy:\", train_accuracy)\n",
        "print(\"Training Precision:\", train_precision)\n",
        "print(\"Training Recall:\", train_recall)\n",
        "print(\"Training F1-score:\", train_f1)\n",
        "print(\"\\nValidation Accuracy:\", val_accuracy)\n",
        "print(\"Validation Precision:\", val_precision)\n",
        "print(\"Validation Recall:\", val_recall)\n",
        "print(\"Validation F1-score:\", val_f1)\n"
      ],
      "metadata": {
        "colab": {
          "base_uri": "https://localhost:8080/"
        },
        "id": "kScZwROZEeWq",
        "outputId": "ce1efc2c-f627-404d-f30d-72752e3cc098"
      },
      "execution_count": 32,
      "outputs": [
        {
          "output_type": "stream",
          "name": "stdout",
          "text": [
            "Training Accuracy: 0.9948652118100129\n",
            "Training Precision: 0.9830508474576272\n",
            "Training Recall: 0.9508196721311475\n",
            "Training F1-score: 0.9666666666666667\n",
            "\n",
            "Validation Accuracy: 0.4693140794223827\n",
            "Validation Precision: 0.6821705426356589\n",
            "Validation Recall: 0.4536082474226804\n",
            "Validation F1-score: 0.544891640866873\n"
          ]
        }
      ]
    },
    {
      "cell_type": "markdown",
      "source": [
        "**Using Decision Trees**"
      ],
      "metadata": {
        "id": "QhgXRowxEzrW"
      }
    },
    {
      "cell_type": "code",
      "source": [
        "from sklearn.tree import DecisionTreeClassifier\n",
        "from sklearn.metrics import accuracy_score, precision_score, recall_score, f1_score\n",
        "import numpy as np\n",
        "\n",
        "# Assuming you have X_train, y_train, X_test, ytest\n",
        "\n",
        "# Reshape or flatten the input data\n",
        "X_train_flat = X_train.reshape(X_train.shape[0], -1)\n",
        "X_test_flat = X_test.reshape(X_test.shape[0], -1)\n",
        "\n",
        "# Define a threshold to classify continuous values into binary classes\n",
        "threshold = 0.5\n",
        "\n",
        "# Convert target variables to binary\n",
        "y_train_binary = (y_train > threshold).astype(int)\n",
        "y_test_binary = (ytest > threshold).astype(int)\n",
        "\n",
        "# Define and train the decision tree model\n",
        "tree_model = DecisionTreeClassifier()\n",
        "tree_model.fit(X_train_flat, y_train_binary)\n",
        "\n",
        "# Make predictions on training set\n",
        "train_predictions_binary = tree_model.predict(X_train_flat)\n",
        "\n",
        "# Make predictions on validation set\n",
        "val_predictions_binary = tree_model.predict(X_test_flat)\n",
        "\n",
        "# Calculate classification metrics for training set\n",
        "train_accuracy = accuracy_score(y_train_binary, train_predictions_binary)\n",
        "train_precision = precision_score(y_train_binary, train_predictions_binary)\n",
        "train_recall = recall_score(y_train_binary, train_predictions_binary)\n",
        "train_f1 = f1_score(y_train_binary, train_predictions_binary)\n",
        "\n",
        "# Calculate classification metrics for validation set\n",
        "val_accuracy = accuracy_score(y_test_binary, val_predictions_binary)\n",
        "val_precision = precision_score(y_test_binary, val_predictions_binary)\n",
        "val_recall = recall_score(y_test_binary, val_predictions_binary)\n",
        "val_f1 = f1_score(y_test_binary, val_predictions_binary)\n",
        "\n",
        "# Print the classification metrics\n",
        "print(\"Training Accuracy:\", train_accuracy)\n",
        "print(\"Training Precision:\", train_precision)\n",
        "print(\"Training Recall:\", train_recall)\n",
        "print(\"Training F1-score:\", train_f1)\n",
        "print(\"\\nValidation Accuracy:\", val_accuracy)\n",
        "print(\"Validation Precision:\", val_precision)\n",
        "print(\"Validation Recall:\", val_recall)\n",
        "print(\"Validation F1-score:\", val_f1)\n"
      ],
      "metadata": {
        "colab": {
          "base_uri": "https://localhost:8080/"
        },
        "id": "we9Hs0kUE3qS",
        "outputId": "42fce5e7-42fd-4fb2-ba30-c169ebba3e91"
      },
      "execution_count": 33,
      "outputs": [
        {
          "output_type": "stream",
          "name": "stdout",
          "text": [
            "Training Accuracy: 1.0\n",
            "Training Precision: 1.0\n",
            "Training Recall: 1.0\n",
            "Training F1-score: 1.0\n",
            "\n",
            "Validation Accuracy: 0.35379061371841153\n",
            "Validation Precision: 0.7777777777777778\n",
            "Validation Recall: 0.10824742268041238\n",
            "Validation F1-score: 0.1900452488687783\n"
          ]
        }
      ]
    },
    {
      "cell_type": "code",
      "source": [],
      "metadata": {
        "id": "XHf5Zy1HE6wP"
      },
      "execution_count": null,
      "outputs": []
    }
  ],
  "metadata": {
    "colab": {
      "name": "Welcome To Colaboratory",
      "provenance": [],
      "include_colab_link": true
    },
    "kernelspec": {
      "display_name": "Python 3",
      "name": "python3"
    }
  },
  "nbformat": 4,
  "nbformat_minor": 0
}